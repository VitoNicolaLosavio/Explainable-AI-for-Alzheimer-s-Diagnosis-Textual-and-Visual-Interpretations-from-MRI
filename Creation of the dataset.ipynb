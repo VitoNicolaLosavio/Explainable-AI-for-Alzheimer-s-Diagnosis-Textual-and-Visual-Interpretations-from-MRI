{
 "cells": [
  {
   "metadata": {},
   "cell_type": "markdown",
   "source": [
    "# Creation of the dataset\n",
    "In this notebook we will use the pipeline developed by the master thesis Trufanova, for the realization of the dataset.\n",
    "We will start from the training reference notebook to run the train of the first model and to download the dataset automatically if it is not present in the reference path."
   ],
   "id": "44df861412a4a168"
  },
  {
   "metadata": {
    "ExecuteTime": {
     "end_time": "2024-05-29T11:52:00.779498Z",
     "start_time": "2024-05-29T11:51:57.056785Z"
    }
   },
   "cell_type": "code",
   "source": [
    "import os, sys, random\n",
    "from sys import platform\n",
    "from monai.utils import set_determinism\n",
    "import alzheimer_disease.src.modules.plotting as plot\n",
    "from alzheimer_disease.src.helpers.utils import make_dataset, get_device\n",
    "from alzheimer_disease.src.modules.training import train_test_splitting, training_model, predict_model\n",
    "from alzheimer_disease.src.helpers.config import get_config\n",
    "from alzheimer_disease.src.modules.preprocessing import get_transformations\n",
    "from alzheimer_disease.src.models.densenetmm import DenseNetMM\n",
    "\n",
    "_base_path = '/Volumes/Seagate Bas/Vito/CV'\n",
    "_current_path = '\\\\'.join(os.getcwd().split('\\\\')[:-1]) + '\\\\' if platform == 'win32' else '/'.join(os.getcwd().split('/')[:-1]) + '/'\n",
    "sys.path.append(_current_path)\n",
    "\n",
    "sys.path.append(_base_path)"
   ],
   "id": "23f18dc8e8f23184",
   "outputs": [],
   "execution_count": 1
  },
  {
   "metadata": {
    "ExecuteTime": {
     "end_time": "2024-05-29T11:52:00.783732Z",
     "start_time": "2024-05-29T11:52:00.780425Z"
    }
   },
   "cell_type": "code",
   "source": "sys.path",
   "id": "c0977f8c783c3779",
   "outputs": [
    {
     "data": {
      "text/plain": [
       "['/Users/vitolosavio/Desktop/Computer_Vision_Code/CV_Project',\n",
       " '/Library/Frameworks/Python.framework/Versions/3.10/lib/python310.zip',\n",
       " '/Library/Frameworks/Python.framework/Versions/3.10/lib/python3.10',\n",
       " '/Library/Frameworks/Python.framework/Versions/3.10/lib/python3.10/lib-dynload',\n",
       " '',\n",
       " '/Users/vitolosavio/Desktop/Computer_Vision_Code/CV_Project/.venv/lib/python3.10/site-packages',\n",
       " '/Users/vitolosavio/Desktop/Computer_Vision_Code/',\n",
       " '/Volumes/Seagate Bas/Vito/CV']"
      ]
     },
     "execution_count": 2,
     "metadata": {},
     "output_type": "execute_result"
    }
   ],
   "execution_count": 2
  },
  {
   "metadata": {},
   "cell_type": "markdown",
   "source": "check if the dataset is downloaded and if it is not present in the specified directory, re-load it",
   "id": "838f3c3c6d3aa996"
  },
  {
   "metadata": {},
   "cell_type": "code",
   "outputs": [],
   "execution_count": null,
   "source": "data_path, meta_path = make_dataset(dataset='oasis_aug', base_path=_base_path)",
   "id": "a046a09715c66e2f"
  },
  {
   "metadata": {},
   "cell_type": "code",
   "outputs": [],
   "execution_count": null,
   "source": [
    "_config = get_config()\n",
    "saved_path = os.path.join(_base_path, _config.get('SAVED_FOLDER'))\n",
    "reports_path = os.path.join(_current_path, _config.get('REPORT_FOLDER'))\n",
    "logs_path = os.path.join(_current_path, _config.get('LOG_FOLDER'))\n",
    "if platform == 'win32':\n",
    "\tsaved_path = saved_path.replace('/', '\\\\')\n",
    "\treports_path = reports_path.replace('/', '\\\\')\n",
    "\tlogs_path = logs_path.replace('/', '\\\\')"
   ],
   "id": "1dc10e8cab030219"
  }
 ],
 "metadata": {
  "kernelspec": {
   "display_name": "Python 3",
   "language": "python",
   "name": "python3"
  },
  "language_info": {
   "codemirror_mode": {
    "name": "ipython",
    "version": 2
   },
   "file_extension": ".py",
   "mimetype": "text/x-python",
   "name": "python",
   "nbconvert_exporter": "python",
   "pygments_lexer": "ipython2",
   "version": "2.7.6"
  }
 },
 "nbformat": 4,
 "nbformat_minor": 5
}
